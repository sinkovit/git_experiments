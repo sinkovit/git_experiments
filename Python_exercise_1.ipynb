{
 "cells": [
  {
   "cell_type": "code",
   "execution_count": 1,
   "metadata": {},
   "outputs": [
    {
     "name": "stdout",
     "output_type": "stream",
     "text": [
      "str1 =  abcd\n",
      "str2 =  defg\n",
      "str3 =  abcddefg\n"
     ]
    }
   ],
   "source": [
    "str1 = 'abcd'\n",
    "str2 = 'defg'\n",
    "str3 = str1 + str2\n",
    "print('str1 = ', str1)\n",
    "print('str2 = ', str2)\n",
    "print('str3 = ', str3)"
   ]
  },
  {
   "cell_type": "code",
   "execution_count": null,
   "metadata": {},
   "outputs": [],
   "source": []
  }
 ],
 "metadata": {
  "kernelspec": {
   "display_name": "Python 3",
   "language": "python",
   "name": "python3"
  },
  "language_info": {
   "codemirror_mode": {
    "name": "ipython",
    "version": 3
   },
   "file_extension": ".py",
   "mimetype": "text/x-python",
   "name": "python",
   "nbconvert_exporter": "python",
   "pygments_lexer": "ipython3",
   "version": "3.7.6"
  }
 },
 "nbformat": 4,
 "nbformat_minor": 4
}
